{
 "cells": [
  {
   "cell_type": "code",
   "execution_count": 51,
   "id": "e82a519a-e1ab-465f-a688-57bf483aabd1",
   "metadata": {},
   "outputs": [],
   "source": [
    "import pandas as pd"
   ]
  },
  {
   "cell_type": "code",
   "execution_count": 104,
   "id": "34f99359-093f-4c0c-a516-1584a87f27e7",
   "metadata": {},
   "outputs": [],
   "source": [
    "#allowing all columns to be displayed\n",
    "pd.set_option('display.max_columns', None)"
   ]
  },
  {
   "cell_type": "code",
   "execution_count": 53,
   "id": "9b5bbba0-54da-4acc-967c-67b9f25da8d2",
   "metadata": {},
   "outputs": [],
   "source": [
    "#concat public holiday files into one file from Y2015 to Y2022\n",
    "#step 1 = import all individual files\n",
    "\n",
    "PH2015 = pd.read_csv('Capstone Files/publicholiday.KR.2015.csv')\n",
    "PH2016 = pd.read_csv('Capstone Files/publicholiday.KR.2016.csv')\n",
    "PH2017 = pd.read_csv('Capstone Files/publicholiday.KR.2017.csv')\n",
    "PH2018 = pd.read_csv('Capstone Files/publicholiday.KR.2018.csv')\n",
    "PH2019 = pd.read_csv('Capstone Files/publicholiday.KR.2019.csv')\n",
    "PH2020 = pd.read_csv('Capstone Files/publicholiday.KR.2020.csv')\n",
    "PH2021 = pd.read_csv('Capstone Files/publicholiday.KR.2021.csv')\n",
    "PH2022 = pd.read_csv('Capstone Files/publicholiday.KR.2022.csv')"
   ]
  },
  {
   "cell_type": "code",
   "execution_count": 54,
   "id": "f1aaba3b-4b25-47c9-8c43-c550b40ee495",
   "metadata": {},
   "outputs": [],
   "source": [
    "#step 2: concat the files into one\n",
    "\n",
    "phdf = pd.concat([PH2015,PH2016,PH2017,PH2018,PH2019,PH2020,PH2021,PH2022], ignore_index=True)"
   ]
  },
  {
   "cell_type": "code",
   "execution_count": 55,
   "id": "92755b3e-7dab-4f50-a052-ed08fbbfb93a",
   "metadata": {},
   "outputs": [],
   "source": [
    "#quick view data \n",
    "\n",
    "#phdf.tail(5)"
   ]
  },
  {
   "cell_type": "code",
   "execution_count": 56,
   "id": "b57f39be-9ae1-480d-aac3-85d754ea39a9",
   "metadata": {},
   "outputs": [],
   "source": [
    "#delete unnecessary columns\n",
    "\n",
    "del phdf['CountryCode']\n",
    "del phdf['Global']\n",
    "del phdf['LaunchYear']\n",
    "del phdf['Type']\n",
    "del phdf['Counties']"
   ]
  },
  {
   "cell_type": "code",
   "execution_count": 57,
   "id": "82f7ec8c-9c45-44eb-bca1-cc27c758c537",
   "metadata": {},
   "outputs": [],
   "source": [
    "#view updated table after deleting columns\n",
    "\n",
    "phdf.head()"
   ]
  },
  {
   "cell_type": "code",
   "execution_count": 58,
   "id": "8ced251f-304c-4b06-9149-e25f44cf6e48",
   "metadata": {},
   "outputs": [],
   "source": [
    "phdf.info()"
   ]
  },
  {
   "cell_type": "code",
   "execution_count": 59,
   "id": "cfd14cbc-6567-4100-bafb-a23229ebd218",
   "metadata": {},
   "outputs": [],
   "source": [
    "# Save the DataFrame to a CSV file without the index column\n",
    "\n",
    "phdf.to_csv('SouthKoreaPublicHolidays2015to2022.csv', index=False)"
   ]
  },
  {
   "cell_type": "code",
   "execution_count": 88,
   "id": "25ae5ffb-37fa-4669-82f8-a56af9e8e541",
   "metadata": {},
   "outputs": [],
   "source": [
    "#import Seoul AQI file\n",
    "\n",
    "saqi = pd.read_csv('Capstone Files/seoul-air-quality.csv')"
   ]
  },
  {
   "cell_type": "code",
   "execution_count": 89,
   "id": "8b48fc95-34ba-4797-9892-cabb60395d98",
   "metadata": {},
   "outputs": [
    {
     "data": {
      "text/html": [
       "<div>\n",
       "<style scoped>\n",
       "    .dataframe tbody tr th:only-of-type {\n",
       "        vertical-align: middle;\n",
       "    }\n",
       "\n",
       "    .dataframe tbody tr th {\n",
       "        vertical-align: top;\n",
       "    }\n",
       "\n",
       "    .dataframe thead th {\n",
       "        text-align: right;\n",
       "    }\n",
       "</style>\n",
       "<table border=\"1\" class=\"dataframe\">\n",
       "  <thead>\n",
       "    <tr style=\"text-align: right;\">\n",
       "      <th></th>\n",
       "      <th>Date</th>\n",
       "      <th>Year</th>\n",
       "      <th>Day</th>\n",
       "      <th>Seoul_pm25</th>\n",
       "      <th>Seoul_pm10</th>\n",
       "      <th>Seoul_o3</th>\n",
       "      <th>Seoul_no2</th>\n",
       "      <th>Seoul_so2</th>\n",
       "      <th>Seoul_co</th>\n",
       "    </tr>\n",
       "  </thead>\n",
       "  <tbody>\n",
       "    <tr>\n",
       "      <th>0</th>\n",
       "      <td>12/31/2013</td>\n",
       "      <td>2013</td>\n",
       "      <td>Tuesday</td>\n",
       "      <td>na</td>\n",
       "      <td>na</td>\n",
       "      <td>18</td>\n",
       "      <td>34</td>\n",
       "      <td>12</td>\n",
       "      <td>6</td>\n",
       "    </tr>\n",
       "    <tr>\n",
       "      <th>1</th>\n",
       "      <td>1/1/2014</td>\n",
       "      <td>2014</td>\n",
       "      <td>Wednesday</td>\n",
       "      <td>na</td>\n",
       "      <td>85</td>\n",
       "      <td>13</td>\n",
       "      <td>37</td>\n",
       "      <td>10</td>\n",
       "      <td>5</td>\n",
       "    </tr>\n",
       "    <tr>\n",
       "      <th>2</th>\n",
       "      <td>1/2/2014</td>\n",
       "      <td>2014</td>\n",
       "      <td>Thursday</td>\n",
       "      <td>na</td>\n",
       "      <td>53</td>\n",
       "      <td>3</td>\n",
       "      <td>62</td>\n",
       "      <td>11</td>\n",
       "      <td>11</td>\n",
       "    </tr>\n",
       "    <tr>\n",
       "      <th>3</th>\n",
       "      <td>1/3/2014</td>\n",
       "      <td>2014</td>\n",
       "      <td>Friday</td>\n",
       "      <td>na</td>\n",
       "      <td>57</td>\n",
       "      <td>8</td>\n",
       "      <td>37</td>\n",
       "      <td>8</td>\n",
       "      <td>6</td>\n",
       "    </tr>\n",
       "    <tr>\n",
       "      <th>4</th>\n",
       "      <td>1/4/2014</td>\n",
       "      <td>2014</td>\n",
       "      <td>Saturday</td>\n",
       "      <td>na</td>\n",
       "      <td>49</td>\n",
       "      <td>10</td>\n",
       "      <td>38</td>\n",
       "      <td>7</td>\n",
       "      <td>6</td>\n",
       "    </tr>\n",
       "  </tbody>\n",
       "</table>\n",
       "</div>"
      ],
      "text/plain": [
       "         Date  Year        Day Seoul_pm25 Seoul_pm10 Seoul_o3 Seoul_no2  \\\n",
       "0  12/31/2013  2013    Tuesday         na         na       18        34   \n",
       "1    1/1/2014  2014  Wednesday         na         85       13        37   \n",
       "2    1/2/2014  2014   Thursday         na         53        3        62   \n",
       "3    1/3/2014  2014     Friday         na         57        8        37   \n",
       "4    1/4/2014  2014   Saturday         na         49       10        38   \n",
       "\n",
       "  Seoul_so2 Seoul_co  \n",
       "0        12        6  \n",
       "1        10        5  \n",
       "2        11       11  \n",
       "3         8        6  \n",
       "4         7        6  "
      ]
     },
     "execution_count": 89,
     "metadata": {},
     "output_type": "execute_result"
    }
   ],
   "source": [
    "saqi.head(5)"
   ]
  },
  {
   "cell_type": "code",
   "execution_count": null,
   "id": "20e9b4dc-1044-4c24-81fd-288479792303",
   "metadata": {},
   "outputs": [],
   "source": [
    "#remove unnecessary/incomplete information"
   ]
  },
  {
   "cell_type": "code",
   "execution_count": 90,
   "id": "c7a3d9c0-07bf-41e7-adef-7e604257fb4b",
   "metadata": {},
   "outputs": [],
   "source": [
    "saqi = saqi.drop(saqi[(saqi.Year == 2013)].index)"
   ]
  },
  {
   "cell_type": "code",
   "execution_count": 91,
   "id": "bfb730df-698e-4678-8f73-dd0e604660f3",
   "metadata": {},
   "outputs": [],
   "source": [
    "saqi = saqi.drop(saqi[(saqi.Year == 2014)].index)"
   ]
  },
  {
   "cell_type": "code",
   "execution_count": 92,
   "id": "a39b7907-4dd4-46a4-888b-6606a5a24179",
   "metadata": {},
   "outputs": [],
   "source": [
    "saqi = saqi.drop(saqi[(saqi.Year == 2023)].index)"
   ]
  },
  {
   "cell_type": "code",
   "execution_count": 114,
   "id": "b9f868f5-31c9-4093-ba5c-eef745847e20",
   "metadata": {},
   "outputs": [],
   "source": [
    "saqi.head(15)"
   ]
  },
  {
   "cell_type": "code",
   "execution_count": 94,
   "id": "70b1fc51-72d0-446f-86b3-3d07156f53be",
   "metadata": {},
   "outputs": [],
   "source": [
    "del saqi['Year']"
   ]
  },
  {
   "cell_type": "code",
   "execution_count": null,
   "id": "25742edc-229f-4558-89ae-a803c90f770a",
   "metadata": {},
   "outputs": [],
   "source": [
    "#Take a look at data for any further changes needed"
   ]
  },
  {
   "cell_type": "code",
   "execution_count": 115,
   "id": "108ff956-147b-453f-9c89-0e994b9e0a07",
   "metadata": {},
   "outputs": [],
   "source": [
    "saqi.head()"
   ]
  },
  {
   "cell_type": "code",
   "execution_count": 116,
   "id": "2239d7a8-a864-45b7-8dd8-4eadcfc4350e",
   "metadata": {},
   "outputs": [],
   "source": [
    "baqi.head()"
   ]
  },
  {
   "cell_type": "code",
   "execution_count": 69,
   "id": "e84c1c61-1d29-402d-ad46-fbf8e8a2aefd",
   "metadata": {},
   "outputs": [],
   "source": [
    "saqi.tail()"
   ]
  },
  {
   "cell_type": "code",
   "execution_count": 70,
   "id": "0c6c988c-49ed-4350-acb2-23a78d43399f",
   "metadata": {},
   "outputs": [],
   "source": [
    "baqi = pd.read_csv('Capstone Files/busan-air-quality.csv')"
   ]
  },
  {
   "cell_type": "code",
   "execution_count": 71,
   "id": "e49a2a62-55e6-497b-80a7-41617cc0ad37",
   "metadata": {},
   "outputs": [],
   "source": [
    "baqi.head(10)"
   ]
  },
  {
   "cell_type": "code",
   "execution_count": 99,
   "id": "fb80d6a8-17d6-4016-acad-eca31fa0e528",
   "metadata": {},
   "outputs": [],
   "source": [
    "#left join busan aqi and seoul aqi files\n",
    "\n",
    "aqidf = pd.merge(baqi,saqi,on='Date',how='outer')"
   ]
  },
  {
   "cell_type": "code",
   "execution_count": 101,
   "id": "e0d7e1a8-5794-48ca-8a52-f434346f9559",
   "metadata": {},
   "outputs": [],
   "source": [
    "aqidf.to_csv('Seoul_Busan_AQI.csv')"
   ]
  },
  {
   "cell_type": "code",
   "execution_count": 117,
   "id": "3c2c7b9f-0efb-4c7c-99cc-e79244fc5a0e",
   "metadata": {},
   "outputs": [],
   "source": [
    "aqidf.head()"
   ]
  },
  {
   "cell_type": "code",
   "execution_count": 107,
   "id": "98dcc8fa-411c-40d6-9e0b-e521be1aa5b8",
   "metadata": {},
   "outputs": [],
   "source": [
    "phdf = pd.read_csv('SouthKoreaPublicHolidays2015to2022.csv')"
   ]
  },
  {
   "cell_type": "code",
   "execution_count": 109,
   "id": "f96aa154-ed85-4618-a24a-f9a01da79e94",
   "metadata": {},
   "outputs": [],
   "source": [
    "phdf.head(15)"
   ]
  },
  {
   "cell_type": "code",
   "execution_count": 110,
   "id": "316c88f1-fb28-4204-8d1d-9cf86a04da83",
   "metadata": {},
   "outputs": [],
   "source": [
    "#add Korean holidays to table\n",
    "\n",
    "df = pd.merge(aqidf,phdf,on='Date',how='outer')"
   ]
  },
  {
   "cell_type": "code",
   "execution_count": 113,
   "id": "293a8705-9cc5-4316-906e-430e7db3c606",
   "metadata": {},
   "outputs": [],
   "source": [
    "#export file to csv format for use in Excel and Tableau\n",
    "\n",
    "df.to_csv('dfdraft1.csv')"
   ]
  }
 ],
 "metadata": {
  "kernelspec": {
   "display_name": "Python 3 (ipykernel)",
   "language": "python",
   "name": "python3"
  },
  "language_info": {
   "codemirror_mode": {
    "name": "ipython",
    "version": 3
   },
   "file_extension": ".py",
   "mimetype": "text/x-python",
   "name": "python",
   "nbconvert_exporter": "python",
   "pygments_lexer": "ipython3",
   "version": "3.10.9"
  }
 },
 "nbformat": 4,
 "nbformat_minor": 5
}
